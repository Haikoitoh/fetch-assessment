{
 "cells": [
  {
   "cell_type": "code",
   "execution_count": 1,
   "metadata": {},
   "outputs": [],
   "source": [
    "#importing libraries\n",
    "import pandas as pd\n",
    "import gzip\n",
    "import tarfile\n",
    "import sqlite3\n",
    "import matplotlib.pyplot as plt"
   ]
  },
  {
   "cell_type": "markdown",
   "metadata": {},
   "source": [
    "# Reading data from json compressed files"
   ]
  },
  {
   "cell_type": "code",
   "execution_count": 2,
   "metadata": {},
   "outputs": [],
   "source": [
    "#function to read data\n",
    "def reading_data(filename):\n",
    "    name = filename.split('.')[0]\n",
    "    try:\n",
    "        data = pd.read_json(filename,lines=True,compression='gzip')\n",
    "    except:\n",
    "        with gzip.open(filename, 'rb') as gz_file:\n",
    "            with tarfile.open(fileobj=gz_file, mode='r:tar') as tar_file:\n",
    "                for member in tar_file.getmembers():\n",
    "                    if member.name.endswith('.json'):  # Check for .json files\n",
    "                        with tar_file.extractfile(member) as tar_data:\n",
    "                            data = pd.read_json(tar_data,lines=True)\n",
    "        print(f'{name} Data was in nested compression')\n",
    "    finally:\n",
    "        print(f'{name} Data extracted successfully')\n",
    "        print('\\n')\n",
    "    return data\n"
   ]
  },
  {
   "cell_type": "code",
   "execution_count": 3,
   "metadata": {},
   "outputs": [
    {
     "name": "stdout",
     "output_type": "stream",
     "text": [
      "brands Data extracted successfully\n",
      "\n",
      "\n",
      "users Data was in nested compression\n",
      "users Data extracted successfully\n",
      "\n",
      "\n",
      "receipts Data extracted successfully\n",
      "\n",
      "\n"
     ]
    }
   ],
   "source": [
    "brands = reading_data('brands.json.gz')\n",
    "users = reading_data('users.json.gz')\n",
    "receipts = reading_data('receipts.json.gz')"
   ]
  },
  {
   "cell_type": "markdown",
   "metadata": {},
   "source": [
    "Transformations Functions"
   ]
  },
  {
   "cell_type": "code",
   "execution_count": 4,
   "metadata": {},
   "outputs": [],
   "source": [
    "#extract elememnt from dict\n",
    "def transform_element(x, element):\n",
    "  if isinstance(x, dict) and element in x:\n",
    "    return x[element]\n",
    "  else:\n",
    "    return x"
   ]
  },
  {
   "cell_type": "markdown",
   "metadata": {},
   "source": [
    "## Users"
   ]
  },
  {
   "cell_type": "code",
   "execution_count": 5,
   "metadata": {},
   "outputs": [
    {
     "data": {
      "text/html": [
       "<div>\n",
       "<style scoped>\n",
       "    .dataframe tbody tr th:only-of-type {\n",
       "        vertical-align: middle;\n",
       "    }\n",
       "\n",
       "    .dataframe tbody tr th {\n",
       "        vertical-align: top;\n",
       "    }\n",
       "\n",
       "    .dataframe thead th {\n",
       "        text-align: right;\n",
       "    }\n",
       "</style>\n",
       "<table border=\"1\" class=\"dataframe\">\n",
       "  <thead>\n",
       "    <tr style=\"text-align: right;\">\n",
       "      <th></th>\n",
       "      <th>_id</th>\n",
       "      <th>active</th>\n",
       "      <th>createdDate</th>\n",
       "      <th>lastLogin</th>\n",
       "      <th>role</th>\n",
       "      <th>signUpSource</th>\n",
       "      <th>state</th>\n",
       "    </tr>\n",
       "  </thead>\n",
       "  <tbody>\n",
       "    <tr>\n",
       "      <th>0</th>\n",
       "      <td>{'$oid': '5ff1e194b6a9d73a3a9f1052'}</td>\n",
       "      <td>True</td>\n",
       "      <td>{'$date': 1609687444800}</td>\n",
       "      <td>{'$date': 1609687537858}</td>\n",
       "      <td>consumer</td>\n",
       "      <td>Email</td>\n",
       "      <td>WI</td>\n",
       "    </tr>\n",
       "    <tr>\n",
       "      <th>1</th>\n",
       "      <td>{'$oid': '5ff1e194b6a9d73a3a9f1052'}</td>\n",
       "      <td>True</td>\n",
       "      <td>{'$date': 1609687444800}</td>\n",
       "      <td>{'$date': 1609687537858}</td>\n",
       "      <td>consumer</td>\n",
       "      <td>Email</td>\n",
       "      <td>WI</td>\n",
       "    </tr>\n",
       "    <tr>\n",
       "      <th>2</th>\n",
       "      <td>{'$oid': '5ff1e194b6a9d73a3a9f1052'}</td>\n",
       "      <td>True</td>\n",
       "      <td>{'$date': 1609687444800}</td>\n",
       "      <td>{'$date': 1609687537858}</td>\n",
       "      <td>consumer</td>\n",
       "      <td>Email</td>\n",
       "      <td>WI</td>\n",
       "    </tr>\n",
       "    <tr>\n",
       "      <th>3</th>\n",
       "      <td>{'$oid': '5ff1e1eacfcf6c399c274ae6'}</td>\n",
       "      <td>True</td>\n",
       "      <td>{'$date': 1609687530554}</td>\n",
       "      <td>{'$date': 1609687530597}</td>\n",
       "      <td>consumer</td>\n",
       "      <td>Email</td>\n",
       "      <td>WI</td>\n",
       "    </tr>\n",
       "    <tr>\n",
       "      <th>4</th>\n",
       "      <td>{'$oid': '5ff1e194b6a9d73a3a9f1052'}</td>\n",
       "      <td>True</td>\n",
       "      <td>{'$date': 1609687444800}</td>\n",
       "      <td>{'$date': 1609687537858}</td>\n",
       "      <td>consumer</td>\n",
       "      <td>Email</td>\n",
       "      <td>WI</td>\n",
       "    </tr>\n",
       "  </tbody>\n",
       "</table>\n",
       "</div>"
      ],
      "text/plain": [
       "                                    _id  active               createdDate  \\\n",
       "0  {'$oid': '5ff1e194b6a9d73a3a9f1052'}    True  {'$date': 1609687444800}   \n",
       "1  {'$oid': '5ff1e194b6a9d73a3a9f1052'}    True  {'$date': 1609687444800}   \n",
       "2  {'$oid': '5ff1e194b6a9d73a3a9f1052'}    True  {'$date': 1609687444800}   \n",
       "3  {'$oid': '5ff1e1eacfcf6c399c274ae6'}    True  {'$date': 1609687530554}   \n",
       "4  {'$oid': '5ff1e194b6a9d73a3a9f1052'}    True  {'$date': 1609687444800}   \n",
       "\n",
       "                  lastLogin      role signUpSource state  \n",
       "0  {'$date': 1609687537858}  consumer        Email    WI  \n",
       "1  {'$date': 1609687537858}  consumer        Email    WI  \n",
       "2  {'$date': 1609687537858}  consumer        Email    WI  \n",
       "3  {'$date': 1609687530597}  consumer        Email    WI  \n",
       "4  {'$date': 1609687537858}  consumer        Email    WI  "
      ]
     },
     "execution_count": 5,
     "metadata": {},
     "output_type": "execute_result"
    }
   ],
   "source": [
    "#checking users data\n",
    "users.head()"
   ]
  },
  {
   "cell_type": "code",
   "execution_count": 6,
   "metadata": {},
   "outputs": [],
   "source": [
    "#extracting data from dict\n",
    "users = users.applymap(lambda x :transform_element(x,'$date'))\n",
    "users = users.applymap(lambda x :transform_element(x,'$oid'))"
   ]
  },
  {
   "cell_type": "code",
   "execution_count": 7,
   "metadata": {},
   "outputs": [],
   "source": [
    "#dropping duplicates value\n",
    "users = users.drop_duplicates()"
   ]
  },
  {
   "cell_type": "markdown",
   "metadata": {},
   "source": [
    "## Brands"
   ]
  },
  {
   "cell_type": "code",
   "execution_count": 8,
   "metadata": {},
   "outputs": [
    {
     "data": {
      "text/html": [
       "<div>\n",
       "<style scoped>\n",
       "    .dataframe tbody tr th:only-of-type {\n",
       "        vertical-align: middle;\n",
       "    }\n",
       "\n",
       "    .dataframe tbody tr th {\n",
       "        vertical-align: top;\n",
       "    }\n",
       "\n",
       "    .dataframe thead th {\n",
       "        text-align: right;\n",
       "    }\n",
       "</style>\n",
       "<table border=\"1\" class=\"dataframe\">\n",
       "  <thead>\n",
       "    <tr style=\"text-align: right;\">\n",
       "      <th></th>\n",
       "      <th>_id</th>\n",
       "      <th>barcode</th>\n",
       "      <th>category</th>\n",
       "      <th>categoryCode</th>\n",
       "      <th>cpg</th>\n",
       "      <th>name</th>\n",
       "      <th>topBrand</th>\n",
       "      <th>brandCode</th>\n",
       "    </tr>\n",
       "  </thead>\n",
       "  <tbody>\n",
       "    <tr>\n",
       "      <th>0</th>\n",
       "      <td>{'$oid': '601ac115be37ce2ead437551'}</td>\n",
       "      <td>511111019862</td>\n",
       "      <td>Baking</td>\n",
       "      <td>BAKING</td>\n",
       "      <td>{'$id': {'$oid': '601ac114be37ce2ead437550'}, ...</td>\n",
       "      <td>test brand @1612366101024</td>\n",
       "      <td>0.0</td>\n",
       "      <td>NaN</td>\n",
       "    </tr>\n",
       "    <tr>\n",
       "      <th>1</th>\n",
       "      <td>{'$oid': '601c5460be37ce2ead43755f'}</td>\n",
       "      <td>511111519928</td>\n",
       "      <td>Beverages</td>\n",
       "      <td>BEVERAGES</td>\n",
       "      <td>{'$id': {'$oid': '5332f5fbe4b03c9a25efd0ba'}, ...</td>\n",
       "      <td>Starbucks</td>\n",
       "      <td>0.0</td>\n",
       "      <td>STARBUCKS</td>\n",
       "    </tr>\n",
       "    <tr>\n",
       "      <th>2</th>\n",
       "      <td>{'$oid': '601ac142be37ce2ead43755d'}</td>\n",
       "      <td>511111819905</td>\n",
       "      <td>Baking</td>\n",
       "      <td>BAKING</td>\n",
       "      <td>{'$id': {'$oid': '601ac142be37ce2ead437559'}, ...</td>\n",
       "      <td>test brand @1612366146176</td>\n",
       "      <td>0.0</td>\n",
       "      <td>TEST BRANDCODE @1612366146176</td>\n",
       "    </tr>\n",
       "    <tr>\n",
       "      <th>3</th>\n",
       "      <td>{'$oid': '601ac142be37ce2ead43755a'}</td>\n",
       "      <td>511111519874</td>\n",
       "      <td>Baking</td>\n",
       "      <td>BAKING</td>\n",
       "      <td>{'$id': {'$oid': '601ac142be37ce2ead437559'}, ...</td>\n",
       "      <td>test brand @1612366146051</td>\n",
       "      <td>0.0</td>\n",
       "      <td>TEST BRANDCODE @1612366146051</td>\n",
       "    </tr>\n",
       "    <tr>\n",
       "      <th>4</th>\n",
       "      <td>{'$oid': '601ac142be37ce2ead43755e'}</td>\n",
       "      <td>511111319917</td>\n",
       "      <td>Candy &amp; Sweets</td>\n",
       "      <td>CANDY_AND_SWEETS</td>\n",
       "      <td>{'$id': {'$oid': '5332fa12e4b03c9a25efd1e7'}, ...</td>\n",
       "      <td>test brand @1612366146827</td>\n",
       "      <td>0.0</td>\n",
       "      <td>TEST BRANDCODE @1612366146827</td>\n",
       "    </tr>\n",
       "  </tbody>\n",
       "</table>\n",
       "</div>"
      ],
      "text/plain": [
       "                                    _id       barcode        category  \\\n",
       "0  {'$oid': '601ac115be37ce2ead437551'}  511111019862          Baking   \n",
       "1  {'$oid': '601c5460be37ce2ead43755f'}  511111519928       Beverages   \n",
       "2  {'$oid': '601ac142be37ce2ead43755d'}  511111819905          Baking   \n",
       "3  {'$oid': '601ac142be37ce2ead43755a'}  511111519874          Baking   \n",
       "4  {'$oid': '601ac142be37ce2ead43755e'}  511111319917  Candy & Sweets   \n",
       "\n",
       "       categoryCode                                                cpg  \\\n",
       "0            BAKING  {'$id': {'$oid': '601ac114be37ce2ead437550'}, ...   \n",
       "1         BEVERAGES  {'$id': {'$oid': '5332f5fbe4b03c9a25efd0ba'}, ...   \n",
       "2            BAKING  {'$id': {'$oid': '601ac142be37ce2ead437559'}, ...   \n",
       "3            BAKING  {'$id': {'$oid': '601ac142be37ce2ead437559'}, ...   \n",
       "4  CANDY_AND_SWEETS  {'$id': {'$oid': '5332fa12e4b03c9a25efd1e7'}, ...   \n",
       "\n",
       "                        name  topBrand                      brandCode  \n",
       "0  test brand @1612366101024       0.0                            NaN  \n",
       "1                  Starbucks       0.0                      STARBUCKS  \n",
       "2  test brand @1612366146176       0.0  TEST BRANDCODE @1612366146176  \n",
       "3  test brand @1612366146051       0.0  TEST BRANDCODE @1612366146051  \n",
       "4  test brand @1612366146827       0.0  TEST BRANDCODE @1612366146827  "
      ]
     },
     "execution_count": 8,
     "metadata": {},
     "output_type": "execute_result"
    }
   ],
   "source": [
    "#checking brands data\n",
    "brands.head()"
   ]
  },
  {
   "cell_type": "code",
   "execution_count": 9,
   "metadata": {},
   "outputs": [
    {
     "name": "stdout",
     "output_type": "stream",
     "text": [
      "<class 'pandas.core.frame.DataFrame'>\n",
      "RangeIndex: 1167 entries, 0 to 1166\n",
      "Data columns (total 8 columns):\n",
      " #   Column        Non-Null Count  Dtype  \n",
      "---  ------        --------------  -----  \n",
      " 0   _id           1167 non-null   object \n",
      " 1   barcode       1167 non-null   int64  \n",
      " 2   category      1012 non-null   object \n",
      " 3   categoryCode  517 non-null    object \n",
      " 4   cpg           1167 non-null   object \n",
      " 5   name          1167 non-null   object \n",
      " 6   topBrand      555 non-null    float64\n",
      " 7   brandCode     933 non-null    object \n",
      "dtypes: float64(1), int64(1), object(6)\n",
      "memory usage: 73.1+ KB\n"
     ]
    }
   ],
   "source": [
    "brands.info()"
   ]
  },
  {
   "cell_type": "code",
   "execution_count": 10,
   "metadata": {},
   "outputs": [],
   "source": [
    "#extracting element from dict\n",
    "#crating seperated columns for cpgoid and cpgref\n",
    "brands_cpg_oid = []\n",
    "brands_cpg_ref = []\n",
    "brands = brands.applymap(lambda x :transform_element(x,'$oid'))\n",
    "\n",
    "for i in range(brands.shape[0]):\n",
    "    brands_cpg_oid.append(brands.cpg[i]['$id']['$oid'])\n",
    "    brands_cpg_ref.append(brands.cpg[i]['$ref'])\n",
    "\n",
    "brands['cpgRef'] = brands_cpg_ref\n",
    "brands['cpgOid'] = brands_cpg_oid\n",
    "\n",
    "brands = brands.drop(['cpg'], axis = 1)"
   ]
  },
  {
   "cell_type": "code",
   "execution_count": 11,
   "metadata": {},
   "outputs": [
    {
     "data": {
      "text/html": [
       "<div>\n",
       "<style scoped>\n",
       "    .dataframe tbody tr th:only-of-type {\n",
       "        vertical-align: middle;\n",
       "    }\n",
       "\n",
       "    .dataframe tbody tr th {\n",
       "        vertical-align: top;\n",
       "    }\n",
       "\n",
       "    .dataframe thead th {\n",
       "        text-align: right;\n",
       "    }\n",
       "</style>\n",
       "<table border=\"1\" class=\"dataframe\">\n",
       "  <thead>\n",
       "    <tr style=\"text-align: right;\">\n",
       "      <th></th>\n",
       "      <th>_id</th>\n",
       "      <th>barcode</th>\n",
       "      <th>category</th>\n",
       "      <th>categoryCode</th>\n",
       "      <th>name</th>\n",
       "      <th>topBrand</th>\n",
       "      <th>brandCode</th>\n",
       "      <th>cpgRef</th>\n",
       "      <th>cpgOid</th>\n",
       "    </tr>\n",
       "  </thead>\n",
       "  <tbody>\n",
       "    <tr>\n",
       "      <th>0</th>\n",
       "      <td>601ac115be37ce2ead437551</td>\n",
       "      <td>511111019862</td>\n",
       "      <td>Baking</td>\n",
       "      <td>BAKING</td>\n",
       "      <td>test brand @1612366101024</td>\n",
       "      <td>0.0</td>\n",
       "      <td>NaN</td>\n",
       "      <td>Cogs</td>\n",
       "      <td>601ac114be37ce2ead437550</td>\n",
       "    </tr>\n",
       "    <tr>\n",
       "      <th>1</th>\n",
       "      <td>601c5460be37ce2ead43755f</td>\n",
       "      <td>511111519928</td>\n",
       "      <td>Beverages</td>\n",
       "      <td>BEVERAGES</td>\n",
       "      <td>Starbucks</td>\n",
       "      <td>0.0</td>\n",
       "      <td>STARBUCKS</td>\n",
       "      <td>Cogs</td>\n",
       "      <td>5332f5fbe4b03c9a25efd0ba</td>\n",
       "    </tr>\n",
       "    <tr>\n",
       "      <th>2</th>\n",
       "      <td>601ac142be37ce2ead43755d</td>\n",
       "      <td>511111819905</td>\n",
       "      <td>Baking</td>\n",
       "      <td>BAKING</td>\n",
       "      <td>test brand @1612366146176</td>\n",
       "      <td>0.0</td>\n",
       "      <td>TEST BRANDCODE @1612366146176</td>\n",
       "      <td>Cogs</td>\n",
       "      <td>601ac142be37ce2ead437559</td>\n",
       "    </tr>\n",
       "    <tr>\n",
       "      <th>3</th>\n",
       "      <td>601ac142be37ce2ead43755a</td>\n",
       "      <td>511111519874</td>\n",
       "      <td>Baking</td>\n",
       "      <td>BAKING</td>\n",
       "      <td>test brand @1612366146051</td>\n",
       "      <td>0.0</td>\n",
       "      <td>TEST BRANDCODE @1612366146051</td>\n",
       "      <td>Cogs</td>\n",
       "      <td>601ac142be37ce2ead437559</td>\n",
       "    </tr>\n",
       "    <tr>\n",
       "      <th>4</th>\n",
       "      <td>601ac142be37ce2ead43755e</td>\n",
       "      <td>511111319917</td>\n",
       "      <td>Candy &amp; Sweets</td>\n",
       "      <td>CANDY_AND_SWEETS</td>\n",
       "      <td>test brand @1612366146827</td>\n",
       "      <td>0.0</td>\n",
       "      <td>TEST BRANDCODE @1612366146827</td>\n",
       "      <td>Cogs</td>\n",
       "      <td>5332fa12e4b03c9a25efd1e7</td>\n",
       "    </tr>\n",
       "  </tbody>\n",
       "</table>\n",
       "</div>"
      ],
      "text/plain": [
       "                        _id       barcode        category      categoryCode  \\\n",
       "0  601ac115be37ce2ead437551  511111019862          Baking            BAKING   \n",
       "1  601c5460be37ce2ead43755f  511111519928       Beverages         BEVERAGES   \n",
       "2  601ac142be37ce2ead43755d  511111819905          Baking            BAKING   \n",
       "3  601ac142be37ce2ead43755a  511111519874          Baking            BAKING   \n",
       "4  601ac142be37ce2ead43755e  511111319917  Candy & Sweets  CANDY_AND_SWEETS   \n",
       "\n",
       "                        name  topBrand                      brandCode cpgRef  \\\n",
       "0  test brand @1612366101024       0.0                            NaN   Cogs   \n",
       "1                  Starbucks       0.0                      STARBUCKS   Cogs   \n",
       "2  test brand @1612366146176       0.0  TEST BRANDCODE @1612366146176   Cogs   \n",
       "3  test brand @1612366146051       0.0  TEST BRANDCODE @1612366146051   Cogs   \n",
       "4  test brand @1612366146827       0.0  TEST BRANDCODE @1612366146827   Cogs   \n",
       "\n",
       "                     cpgOid  \n",
       "0  601ac114be37ce2ead437550  \n",
       "1  5332f5fbe4b03c9a25efd0ba  \n",
       "2  601ac142be37ce2ead437559  \n",
       "3  601ac142be37ce2ead437559  \n",
       "4  5332fa12e4b03c9a25efd1e7  "
      ]
     },
     "execution_count": 11,
     "metadata": {},
     "output_type": "execute_result"
    }
   ],
   "source": [
    "#new transformed dataframe\n",
    "brands.head(5)"
   ]
  },
  {
   "cell_type": "markdown",
   "metadata": {},
   "source": [
    "## Receipts"
   ]
  },
  {
   "cell_type": "code",
   "execution_count": 12,
   "metadata": {},
   "outputs": [
    {
     "data": {
      "text/html": [
       "<div>\n",
       "<style scoped>\n",
       "    .dataframe tbody tr th:only-of-type {\n",
       "        vertical-align: middle;\n",
       "    }\n",
       "\n",
       "    .dataframe tbody tr th {\n",
       "        vertical-align: top;\n",
       "    }\n",
       "\n",
       "    .dataframe thead th {\n",
       "        text-align: right;\n",
       "    }\n",
       "</style>\n",
       "<table border=\"1\" class=\"dataframe\">\n",
       "  <thead>\n",
       "    <tr style=\"text-align: right;\">\n",
       "      <th></th>\n",
       "      <th>_id</th>\n",
       "      <th>bonusPointsEarned</th>\n",
       "      <th>bonusPointsEarnedReason</th>\n",
       "      <th>createDate</th>\n",
       "      <th>dateScanned</th>\n",
       "      <th>finishedDate</th>\n",
       "      <th>modifyDate</th>\n",
       "      <th>pointsAwardedDate</th>\n",
       "      <th>pointsEarned</th>\n",
       "      <th>purchaseDate</th>\n",
       "      <th>purchasedItemCount</th>\n",
       "      <th>rewardsReceiptItemList</th>\n",
       "      <th>rewardsReceiptStatus</th>\n",
       "      <th>totalSpent</th>\n",
       "      <th>userId</th>\n",
       "    </tr>\n",
       "  </thead>\n",
       "  <tbody>\n",
       "    <tr>\n",
       "      <th>0</th>\n",
       "      <td>{'$oid': '5ff1e1eb0a720f0523000575'}</td>\n",
       "      <td>500.0</td>\n",
       "      <td>Receipt number 2 completed, bonus point schedu...</td>\n",
       "      <td>{'$date': 1609687531000}</td>\n",
       "      <td>{'$date': 1609687531000}</td>\n",
       "      <td>{'$date': 1609687531000}</td>\n",
       "      <td>{'$date': 1609687536000}</td>\n",
       "      <td>{'$date': 1609687531000}</td>\n",
       "      <td>500.0</td>\n",
       "      <td>{'$date': 1609632000000}</td>\n",
       "      <td>5.0</td>\n",
       "      <td>[{'barcode': '4011', 'description': 'ITEM NOT ...</td>\n",
       "      <td>FINISHED</td>\n",
       "      <td>26.0</td>\n",
       "      <td>5ff1e1eacfcf6c399c274ae6</td>\n",
       "    </tr>\n",
       "    <tr>\n",
       "      <th>1</th>\n",
       "      <td>{'$oid': '5ff1e1bb0a720f052300056b'}</td>\n",
       "      <td>150.0</td>\n",
       "      <td>Receipt number 5 completed, bonus point schedu...</td>\n",
       "      <td>{'$date': 1609687483000}</td>\n",
       "      <td>{'$date': 1609687483000}</td>\n",
       "      <td>{'$date': 1609687483000}</td>\n",
       "      <td>{'$date': 1609687488000}</td>\n",
       "      <td>{'$date': 1609687483000}</td>\n",
       "      <td>150.0</td>\n",
       "      <td>{'$date': 1609601083000}</td>\n",
       "      <td>2.0</td>\n",
       "      <td>[{'barcode': '4011', 'description': 'ITEM NOT ...</td>\n",
       "      <td>FINISHED</td>\n",
       "      <td>11.0</td>\n",
       "      <td>5ff1e194b6a9d73a3a9f1052</td>\n",
       "    </tr>\n",
       "    <tr>\n",
       "      <th>2</th>\n",
       "      <td>{'$oid': '5ff1e1f10a720f052300057a'}</td>\n",
       "      <td>5.0</td>\n",
       "      <td>All-receipts receipt bonus</td>\n",
       "      <td>{'$date': 1609687537000}</td>\n",
       "      <td>{'$date': 1609687537000}</td>\n",
       "      <td>NaN</td>\n",
       "      <td>{'$date': 1609687542000}</td>\n",
       "      <td>NaN</td>\n",
       "      <td>5.0</td>\n",
       "      <td>{'$date': 1609632000000}</td>\n",
       "      <td>1.0</td>\n",
       "      <td>[{'needsFetchReview': False, 'partnerItemId': ...</td>\n",
       "      <td>REJECTED</td>\n",
       "      <td>10.0</td>\n",
       "      <td>5ff1e1f1cfcf6c399c274b0b</td>\n",
       "    </tr>\n",
       "    <tr>\n",
       "      <th>3</th>\n",
       "      <td>{'$oid': '5ff1e1ee0a7214ada100056f'}</td>\n",
       "      <td>5.0</td>\n",
       "      <td>All-receipts receipt bonus</td>\n",
       "      <td>{'$date': 1609687534000}</td>\n",
       "      <td>{'$date': 1609687534000}</td>\n",
       "      <td>{'$date': 1609687534000}</td>\n",
       "      <td>{'$date': 1609687539000}</td>\n",
       "      <td>{'$date': 1609687534000}</td>\n",
       "      <td>5.0</td>\n",
       "      <td>{'$date': 1609632000000}</td>\n",
       "      <td>4.0</td>\n",
       "      <td>[{'barcode': '4011', 'description': 'ITEM NOT ...</td>\n",
       "      <td>FINISHED</td>\n",
       "      <td>28.0</td>\n",
       "      <td>5ff1e1eacfcf6c399c274ae6</td>\n",
       "    </tr>\n",
       "    <tr>\n",
       "      <th>4</th>\n",
       "      <td>{'$oid': '5ff1e1d20a7214ada1000561'}</td>\n",
       "      <td>5.0</td>\n",
       "      <td>All-receipts receipt bonus</td>\n",
       "      <td>{'$date': 1609687506000}</td>\n",
       "      <td>{'$date': 1609687506000}</td>\n",
       "      <td>{'$date': 1609687511000}</td>\n",
       "      <td>{'$date': 1609687511000}</td>\n",
       "      <td>{'$date': 1609687506000}</td>\n",
       "      <td>5.0</td>\n",
       "      <td>{'$date': 1609601106000}</td>\n",
       "      <td>2.0</td>\n",
       "      <td>[{'barcode': '4011', 'description': 'ITEM NOT ...</td>\n",
       "      <td>FINISHED</td>\n",
       "      <td>1.0</td>\n",
       "      <td>5ff1e194b6a9d73a3a9f1052</td>\n",
       "    </tr>\n",
       "  </tbody>\n",
       "</table>\n",
       "</div>"
      ],
      "text/plain": [
       "                                    _id  bonusPointsEarned  \\\n",
       "0  {'$oid': '5ff1e1eb0a720f0523000575'}              500.0   \n",
       "1  {'$oid': '5ff1e1bb0a720f052300056b'}              150.0   \n",
       "2  {'$oid': '5ff1e1f10a720f052300057a'}                5.0   \n",
       "3  {'$oid': '5ff1e1ee0a7214ada100056f'}                5.0   \n",
       "4  {'$oid': '5ff1e1d20a7214ada1000561'}                5.0   \n",
       "\n",
       "                             bonusPointsEarnedReason  \\\n",
       "0  Receipt number 2 completed, bonus point schedu...   \n",
       "1  Receipt number 5 completed, bonus point schedu...   \n",
       "2                         All-receipts receipt bonus   \n",
       "3                         All-receipts receipt bonus   \n",
       "4                         All-receipts receipt bonus   \n",
       "\n",
       "                 createDate               dateScanned  \\\n",
       "0  {'$date': 1609687531000}  {'$date': 1609687531000}   \n",
       "1  {'$date': 1609687483000}  {'$date': 1609687483000}   \n",
       "2  {'$date': 1609687537000}  {'$date': 1609687537000}   \n",
       "3  {'$date': 1609687534000}  {'$date': 1609687534000}   \n",
       "4  {'$date': 1609687506000}  {'$date': 1609687506000}   \n",
       "\n",
       "               finishedDate                modifyDate  \\\n",
       "0  {'$date': 1609687531000}  {'$date': 1609687536000}   \n",
       "1  {'$date': 1609687483000}  {'$date': 1609687488000}   \n",
       "2                       NaN  {'$date': 1609687542000}   \n",
       "3  {'$date': 1609687534000}  {'$date': 1609687539000}   \n",
       "4  {'$date': 1609687511000}  {'$date': 1609687511000}   \n",
       "\n",
       "          pointsAwardedDate  pointsEarned              purchaseDate  \\\n",
       "0  {'$date': 1609687531000}         500.0  {'$date': 1609632000000}   \n",
       "1  {'$date': 1609687483000}         150.0  {'$date': 1609601083000}   \n",
       "2                       NaN           5.0  {'$date': 1609632000000}   \n",
       "3  {'$date': 1609687534000}           5.0  {'$date': 1609632000000}   \n",
       "4  {'$date': 1609687506000}           5.0  {'$date': 1609601106000}   \n",
       "\n",
       "   purchasedItemCount                             rewardsReceiptItemList  \\\n",
       "0                 5.0  [{'barcode': '4011', 'description': 'ITEM NOT ...   \n",
       "1                 2.0  [{'barcode': '4011', 'description': 'ITEM NOT ...   \n",
       "2                 1.0  [{'needsFetchReview': False, 'partnerItemId': ...   \n",
       "3                 4.0  [{'barcode': '4011', 'description': 'ITEM NOT ...   \n",
       "4                 2.0  [{'barcode': '4011', 'description': 'ITEM NOT ...   \n",
       "\n",
       "  rewardsReceiptStatus  totalSpent                    userId  \n",
       "0             FINISHED        26.0  5ff1e1eacfcf6c399c274ae6  \n",
       "1             FINISHED        11.0  5ff1e194b6a9d73a3a9f1052  \n",
       "2             REJECTED        10.0  5ff1e1f1cfcf6c399c274b0b  \n",
       "3             FINISHED        28.0  5ff1e1eacfcf6c399c274ae6  \n",
       "4             FINISHED         1.0  5ff1e194b6a9d73a3a9f1052  "
      ]
     },
     "execution_count": 12,
     "metadata": {},
     "output_type": "execute_result"
    }
   ],
   "source": [
    "#checking receipts data\n",
    "receipts.head()"
   ]
  },
  {
   "cell_type": "code",
   "execution_count": 13,
   "metadata": {},
   "outputs": [
    {
     "data": {
      "text/plain": [
       "_id                          0\n",
       "bonusPointsEarned          575\n",
       "bonusPointsEarnedReason    575\n",
       "createDate                   0\n",
       "dateScanned                  0\n",
       "finishedDate               551\n",
       "modifyDate                   0\n",
       "pointsAwardedDate          582\n",
       "pointsEarned               510\n",
       "purchaseDate               448\n",
       "purchasedItemCount         484\n",
       "rewardsReceiptItemList     440\n",
       "rewardsReceiptStatus         0\n",
       "totalSpent                 435\n",
       "userId                       0\n",
       "dtype: int64"
      ]
     },
     "execution_count": 13,
     "metadata": {},
     "output_type": "execute_result"
    }
   ],
   "source": [
    "receipts.isnull().sum()"
   ]
  },
  {
   "cell_type": "code",
   "execution_count": 14,
   "metadata": {},
   "outputs": [],
   "source": [
    "#extracting element from dict\n",
    "receipts = receipts.applymap(lambda x :transform_element(x,'$date'))\n",
    "receipts = receipts.applymap(lambda x :transform_element(x,'$oid'))\n",
    "receipts = receipts.drop(['rewardsReceiptItemList'], axis = 1)"
   ]
  },
  {
   "cell_type": "code",
   "execution_count": 15,
   "metadata": {},
   "outputs": [
    {
     "data": {
      "text/html": [
       "<div>\n",
       "<style scoped>\n",
       "    .dataframe tbody tr th:only-of-type {\n",
       "        vertical-align: middle;\n",
       "    }\n",
       "\n",
       "    .dataframe tbody tr th {\n",
       "        vertical-align: top;\n",
       "    }\n",
       "\n",
       "    .dataframe thead th {\n",
       "        text-align: right;\n",
       "    }\n",
       "</style>\n",
       "<table border=\"1\" class=\"dataframe\">\n",
       "  <thead>\n",
       "    <tr style=\"text-align: right;\">\n",
       "      <th></th>\n",
       "      <th>_id</th>\n",
       "      <th>bonusPointsEarned</th>\n",
       "      <th>bonusPointsEarnedReason</th>\n",
       "      <th>createDate</th>\n",
       "      <th>dateScanned</th>\n",
       "      <th>finishedDate</th>\n",
       "      <th>modifyDate</th>\n",
       "      <th>pointsAwardedDate</th>\n",
       "      <th>pointsEarned</th>\n",
       "      <th>purchaseDate</th>\n",
       "      <th>purchasedItemCount</th>\n",
       "      <th>rewardsReceiptStatus</th>\n",
       "      <th>totalSpent</th>\n",
       "      <th>userId</th>\n",
       "    </tr>\n",
       "  </thead>\n",
       "  <tbody>\n",
       "    <tr>\n",
       "      <th>0</th>\n",
       "      <td>5ff1e1eb0a720f0523000575</td>\n",
       "      <td>500.0</td>\n",
       "      <td>Receipt number 2 completed, bonus point schedu...</td>\n",
       "      <td>1609687531000</td>\n",
       "      <td>1609687531000</td>\n",
       "      <td>1.609688e+12</td>\n",
       "      <td>1609687536000</td>\n",
       "      <td>1.609688e+12</td>\n",
       "      <td>500.0</td>\n",
       "      <td>1.609632e+12</td>\n",
       "      <td>5.0</td>\n",
       "      <td>FINISHED</td>\n",
       "      <td>26.0</td>\n",
       "      <td>5ff1e1eacfcf6c399c274ae6</td>\n",
       "    </tr>\n",
       "    <tr>\n",
       "      <th>1</th>\n",
       "      <td>5ff1e1bb0a720f052300056b</td>\n",
       "      <td>150.0</td>\n",
       "      <td>Receipt number 5 completed, bonus point schedu...</td>\n",
       "      <td>1609687483000</td>\n",
       "      <td>1609687483000</td>\n",
       "      <td>1.609687e+12</td>\n",
       "      <td>1609687488000</td>\n",
       "      <td>1.609687e+12</td>\n",
       "      <td>150.0</td>\n",
       "      <td>1.609601e+12</td>\n",
       "      <td>2.0</td>\n",
       "      <td>FINISHED</td>\n",
       "      <td>11.0</td>\n",
       "      <td>5ff1e194b6a9d73a3a9f1052</td>\n",
       "    </tr>\n",
       "    <tr>\n",
       "      <th>2</th>\n",
       "      <td>5ff1e1f10a720f052300057a</td>\n",
       "      <td>5.0</td>\n",
       "      <td>All-receipts receipt bonus</td>\n",
       "      <td>1609687537000</td>\n",
       "      <td>1609687537000</td>\n",
       "      <td>NaN</td>\n",
       "      <td>1609687542000</td>\n",
       "      <td>NaN</td>\n",
       "      <td>5.0</td>\n",
       "      <td>1.609632e+12</td>\n",
       "      <td>1.0</td>\n",
       "      <td>REJECTED</td>\n",
       "      <td>10.0</td>\n",
       "      <td>5ff1e1f1cfcf6c399c274b0b</td>\n",
       "    </tr>\n",
       "    <tr>\n",
       "      <th>3</th>\n",
       "      <td>5ff1e1ee0a7214ada100056f</td>\n",
       "      <td>5.0</td>\n",
       "      <td>All-receipts receipt bonus</td>\n",
       "      <td>1609687534000</td>\n",
       "      <td>1609687534000</td>\n",
       "      <td>1.609688e+12</td>\n",
       "      <td>1609687539000</td>\n",
       "      <td>1.609688e+12</td>\n",
       "      <td>5.0</td>\n",
       "      <td>1.609632e+12</td>\n",
       "      <td>4.0</td>\n",
       "      <td>FINISHED</td>\n",
       "      <td>28.0</td>\n",
       "      <td>5ff1e1eacfcf6c399c274ae6</td>\n",
       "    </tr>\n",
       "    <tr>\n",
       "      <th>4</th>\n",
       "      <td>5ff1e1d20a7214ada1000561</td>\n",
       "      <td>5.0</td>\n",
       "      <td>All-receipts receipt bonus</td>\n",
       "      <td>1609687506000</td>\n",
       "      <td>1609687506000</td>\n",
       "      <td>1.609688e+12</td>\n",
       "      <td>1609687511000</td>\n",
       "      <td>1.609688e+12</td>\n",
       "      <td>5.0</td>\n",
       "      <td>1.609601e+12</td>\n",
       "      <td>2.0</td>\n",
       "      <td>FINISHED</td>\n",
       "      <td>1.0</td>\n",
       "      <td>5ff1e194b6a9d73a3a9f1052</td>\n",
       "    </tr>\n",
       "  </tbody>\n",
       "</table>\n",
       "</div>"
      ],
      "text/plain": [
       "                        _id  bonusPointsEarned  \\\n",
       "0  5ff1e1eb0a720f0523000575              500.0   \n",
       "1  5ff1e1bb0a720f052300056b              150.0   \n",
       "2  5ff1e1f10a720f052300057a                5.0   \n",
       "3  5ff1e1ee0a7214ada100056f                5.0   \n",
       "4  5ff1e1d20a7214ada1000561                5.0   \n",
       "\n",
       "                             bonusPointsEarnedReason     createDate  \\\n",
       "0  Receipt number 2 completed, bonus point schedu...  1609687531000   \n",
       "1  Receipt number 5 completed, bonus point schedu...  1609687483000   \n",
       "2                         All-receipts receipt bonus  1609687537000   \n",
       "3                         All-receipts receipt bonus  1609687534000   \n",
       "4                         All-receipts receipt bonus  1609687506000   \n",
       "\n",
       "     dateScanned  finishedDate     modifyDate  pointsAwardedDate  \\\n",
       "0  1609687531000  1.609688e+12  1609687536000       1.609688e+12   \n",
       "1  1609687483000  1.609687e+12  1609687488000       1.609687e+12   \n",
       "2  1609687537000           NaN  1609687542000                NaN   \n",
       "3  1609687534000  1.609688e+12  1609687539000       1.609688e+12   \n",
       "4  1609687506000  1.609688e+12  1609687511000       1.609688e+12   \n",
       "\n",
       "   pointsEarned  purchaseDate  purchasedItemCount rewardsReceiptStatus  \\\n",
       "0         500.0  1.609632e+12                 5.0             FINISHED   \n",
       "1         150.0  1.609601e+12                 2.0             FINISHED   \n",
       "2           5.0  1.609632e+12                 1.0             REJECTED   \n",
       "3           5.0  1.609632e+12                 4.0             FINISHED   \n",
       "4           5.0  1.609601e+12                 2.0             FINISHED   \n",
       "\n",
       "   totalSpent                    userId  \n",
       "0        26.0  5ff1e1eacfcf6c399c274ae6  \n",
       "1        11.0  5ff1e194b6a9d73a3a9f1052  \n",
       "2        10.0  5ff1e1f1cfcf6c399c274b0b  \n",
       "3        28.0  5ff1e1eacfcf6c399c274ae6  \n",
       "4         1.0  5ff1e194b6a9d73a3a9f1052  "
      ]
     },
     "execution_count": 15,
     "metadata": {},
     "output_type": "execute_result"
    }
   ],
   "source": [
    "#transformed dataframe\n",
    "receipts.head()"
   ]
  },
  {
   "cell_type": "markdown",
   "metadata": {},
   "source": [
    "## RewardItemsList"
   ]
  },
  {
   "cell_type": "code",
   "execution_count": 16,
   "metadata": {},
   "outputs": [
    {
     "name": "stdout",
     "output_type": "stream",
     "text": [
      "receipts Data extracted successfully\n",
      "\n",
      "\n"
     ]
    }
   ],
   "source": [
    "#extracting receipts data from json source\n",
    "receipts1 = reading_data('receipts.json.gz')\n",
    "#extracting items from dict\n",
    "receipts1 = receipts1.applymap(lambda x :transform_element(x,'$date'))\n",
    "receipts1 = receipts1.applymap(lambda x :transform_element(x,'$oid'))\n",
    "\n",
    "#checking if rewardsReceiptItemsList exist and if does, add receipt id as dict to the list of items\n",
    "receipt_id_list = []\n",
    "for i, data in receipts1.iterrows():\n",
    "    if isinstance(data['rewardsReceiptItemList'], list):\n",
    "        receipt_id = data['_id']\n",
    "        #for each item in items list\n",
    "        for item in data['rewardsReceiptItemList']:\n",
    "            item.update({'receipt_id':receipt_id})\n",
    "            receipt_id_list.append(receipt_id)\n"
   ]
  },
  {
   "cell_type": "code",
   "execution_count": 17,
   "metadata": {},
   "outputs": [],
   "source": [
    "#creating rewards_receipt_items table by using json_normalize, explode functions on rewardsReceiptItemList column\n",
    "rewards_receipt_items = pd.json_normalize(receipts1['rewardsReceiptItemList'].explode())"
   ]
  },
  {
   "cell_type": "code",
   "execution_count": 18,
   "metadata": {},
   "outputs": [],
   "source": [
    "#some rows have empty values in barcode column but for that rows brandCode column is not null\n",
    "#the business questions require answers related to brands i.e. brandCode\n",
    "#In such scenario, null brandCode values cannot be ignored and ideally the barcode should not be null but there are\n",
    "#For time-being, assigning 404 value to empty barcode (Root problem is data quality, to be solved later on)\n",
    "rewards_receipt_items['barcode'] = rewards_receipt_items['barcode'].fillna(404)\n",
    "#creating a new column which will be used as primary key\n",
    "rewards_receipt_items['receiptBarcodeRow'] = (rewards_receipt_items['receipt_id'].astype(str) + rewards_receipt_items['barcode'].astype(str) + (rewards_receipt_items.index + 1).astype(str))"
   ]
  },
  {
   "cell_type": "code",
   "execution_count": 19,
   "metadata": {},
   "outputs": [
    {
     "data": {
      "text/html": [
       "<div>\n",
       "<style scoped>\n",
       "    .dataframe tbody tr th:only-of-type {\n",
       "        vertical-align: middle;\n",
       "    }\n",
       "\n",
       "    .dataframe tbody tr th {\n",
       "        vertical-align: top;\n",
       "    }\n",
       "\n",
       "    .dataframe thead th {\n",
       "        text-align: right;\n",
       "    }\n",
       "</style>\n",
       "<table border=\"1\" class=\"dataframe\">\n",
       "  <thead>\n",
       "    <tr style=\"text-align: right;\">\n",
       "      <th></th>\n",
       "      <th>barcode</th>\n",
       "      <th>description</th>\n",
       "      <th>finalPrice</th>\n",
       "      <th>itemPrice</th>\n",
       "      <th>needsFetchReview</th>\n",
       "      <th>partnerItemId</th>\n",
       "      <th>preventTargetGapPoints</th>\n",
       "      <th>quantityPurchased</th>\n",
       "      <th>userFlaggedBarcode</th>\n",
       "      <th>userFlaggedNewItem</th>\n",
       "      <th>...</th>\n",
       "      <th>originalMetaBriteQuantityPurchased</th>\n",
       "      <th>pointsEarned</th>\n",
       "      <th>targetPrice</th>\n",
       "      <th>competitiveProduct</th>\n",
       "      <th>originalFinalPrice</th>\n",
       "      <th>originalMetaBriteItemPrice</th>\n",
       "      <th>deleted</th>\n",
       "      <th>priceAfterCoupon</th>\n",
       "      <th>metabriteCampaignId</th>\n",
       "      <th>receiptBarcodeRow</th>\n",
       "    </tr>\n",
       "  </thead>\n",
       "  <tbody>\n",
       "    <tr>\n",
       "      <th>0</th>\n",
       "      <td>4011</td>\n",
       "      <td>ITEM NOT FOUND</td>\n",
       "      <td>26.00</td>\n",
       "      <td>26.00</td>\n",
       "      <td>False</td>\n",
       "      <td>1</td>\n",
       "      <td>True</td>\n",
       "      <td>5.0</td>\n",
       "      <td>4011</td>\n",
       "      <td>True</td>\n",
       "      <td>...</td>\n",
       "      <td>NaN</td>\n",
       "      <td>NaN</td>\n",
       "      <td>NaN</td>\n",
       "      <td>NaN</td>\n",
       "      <td>NaN</td>\n",
       "      <td>NaN</td>\n",
       "      <td>NaN</td>\n",
       "      <td>NaN</td>\n",
       "      <td>NaN</td>\n",
       "      <td>5ff1e1eb0a720f052300057540111</td>\n",
       "    </tr>\n",
       "    <tr>\n",
       "      <th>1</th>\n",
       "      <td>4011</td>\n",
       "      <td>ITEM NOT FOUND</td>\n",
       "      <td>1</td>\n",
       "      <td>1</td>\n",
       "      <td>NaN</td>\n",
       "      <td>1</td>\n",
       "      <td>NaN</td>\n",
       "      <td>1.0</td>\n",
       "      <td>NaN</td>\n",
       "      <td>NaN</td>\n",
       "      <td>...</td>\n",
       "      <td>NaN</td>\n",
       "      <td>NaN</td>\n",
       "      <td>NaN</td>\n",
       "      <td>NaN</td>\n",
       "      <td>NaN</td>\n",
       "      <td>NaN</td>\n",
       "      <td>NaN</td>\n",
       "      <td>NaN</td>\n",
       "      <td>NaN</td>\n",
       "      <td>5ff1e1bb0a720f052300056b40112</td>\n",
       "    </tr>\n",
       "    <tr>\n",
       "      <th>2</th>\n",
       "      <td>028400642255</td>\n",
       "      <td>DORITOS TORTILLA CHIP SPICY SWEET CHILI REDUCE...</td>\n",
       "      <td>10.00</td>\n",
       "      <td>10.00</td>\n",
       "      <td>True</td>\n",
       "      <td>2</td>\n",
       "      <td>True</td>\n",
       "      <td>1.0</td>\n",
       "      <td>028400642255</td>\n",
       "      <td>True</td>\n",
       "      <td>...</td>\n",
       "      <td>NaN</td>\n",
       "      <td>NaN</td>\n",
       "      <td>NaN</td>\n",
       "      <td>NaN</td>\n",
       "      <td>NaN</td>\n",
       "      <td>NaN</td>\n",
       "      <td>NaN</td>\n",
       "      <td>NaN</td>\n",
       "      <td>NaN</td>\n",
       "      <td>5ff1e1bb0a720f052300056b0284006422553</td>\n",
       "    </tr>\n",
       "    <tr>\n",
       "      <th>3</th>\n",
       "      <td>404</td>\n",
       "      <td>NaN</td>\n",
       "      <td>NaN</td>\n",
       "      <td>NaN</td>\n",
       "      <td>False</td>\n",
       "      <td>1</td>\n",
       "      <td>True</td>\n",
       "      <td>NaN</td>\n",
       "      <td>4011</td>\n",
       "      <td>True</td>\n",
       "      <td>...</td>\n",
       "      <td>NaN</td>\n",
       "      <td>NaN</td>\n",
       "      <td>NaN</td>\n",
       "      <td>NaN</td>\n",
       "      <td>NaN</td>\n",
       "      <td>NaN</td>\n",
       "      <td>NaN</td>\n",
       "      <td>NaN</td>\n",
       "      <td>NaN</td>\n",
       "      <td>5ff1e1f10a720f052300057a4044</td>\n",
       "    </tr>\n",
       "    <tr>\n",
       "      <th>4</th>\n",
       "      <td>4011</td>\n",
       "      <td>ITEM NOT FOUND</td>\n",
       "      <td>28.00</td>\n",
       "      <td>28.00</td>\n",
       "      <td>False</td>\n",
       "      <td>1</td>\n",
       "      <td>True</td>\n",
       "      <td>4.0</td>\n",
       "      <td>4011</td>\n",
       "      <td>True</td>\n",
       "      <td>...</td>\n",
       "      <td>NaN</td>\n",
       "      <td>NaN</td>\n",
       "      <td>NaN</td>\n",
       "      <td>NaN</td>\n",
       "      <td>NaN</td>\n",
       "      <td>NaN</td>\n",
       "      <td>NaN</td>\n",
       "      <td>NaN</td>\n",
       "      <td>NaN</td>\n",
       "      <td>5ff1e1ee0a7214ada100056f40115</td>\n",
       "    </tr>\n",
       "  </tbody>\n",
       "</table>\n",
       "<p>5 rows × 36 columns</p>\n",
       "</div>"
      ],
      "text/plain": [
       "        barcode                                        description finalPrice  \\\n",
       "0          4011                                     ITEM NOT FOUND      26.00   \n",
       "1          4011                                     ITEM NOT FOUND          1   \n",
       "2  028400642255  DORITOS TORTILLA CHIP SPICY SWEET CHILI REDUCE...      10.00   \n",
       "3           404                                                NaN        NaN   \n",
       "4          4011                                     ITEM NOT FOUND      28.00   \n",
       "\n",
       "  itemPrice needsFetchReview partnerItemId preventTargetGapPoints  \\\n",
       "0     26.00            False             1                   True   \n",
       "1         1              NaN             1                    NaN   \n",
       "2     10.00             True             2                   True   \n",
       "3       NaN            False             1                   True   \n",
       "4     28.00            False             1                   True   \n",
       "\n",
       "   quantityPurchased userFlaggedBarcode userFlaggedNewItem  ...  \\\n",
       "0                5.0               4011               True  ...   \n",
       "1                1.0                NaN                NaN  ...   \n",
       "2                1.0       028400642255               True  ...   \n",
       "3                NaN               4011               True  ...   \n",
       "4                4.0               4011               True  ...   \n",
       "\n",
       "  originalMetaBriteQuantityPurchased  pointsEarned targetPrice  \\\n",
       "0                                NaN           NaN         NaN   \n",
       "1                                NaN           NaN         NaN   \n",
       "2                                NaN           NaN         NaN   \n",
       "3                                NaN           NaN         NaN   \n",
       "4                                NaN           NaN         NaN   \n",
       "\n",
       "  competitiveProduct originalFinalPrice originalMetaBriteItemPrice deleted  \\\n",
       "0                NaN                NaN                        NaN     NaN   \n",
       "1                NaN                NaN                        NaN     NaN   \n",
       "2                NaN                NaN                        NaN     NaN   \n",
       "3                NaN                NaN                        NaN     NaN   \n",
       "4                NaN                NaN                        NaN     NaN   \n",
       "\n",
       "  priceAfterCoupon metabriteCampaignId                      receiptBarcodeRow  \n",
       "0              NaN                 NaN          5ff1e1eb0a720f052300057540111  \n",
       "1              NaN                 NaN          5ff1e1bb0a720f052300056b40112  \n",
       "2              NaN                 NaN  5ff1e1bb0a720f052300056b0284006422553  \n",
       "3              NaN                 NaN           5ff1e1f10a720f052300057a4044  \n",
       "4              NaN                 NaN          5ff1e1ee0a7214ada100056f40115  \n",
       "\n",
       "[5 rows x 36 columns]"
      ]
     },
     "execution_count": 19,
     "metadata": {},
     "output_type": "execute_result"
    }
   ],
   "source": [
    "#transformed dataframe\n",
    "rewards_receipt_items.head()"
   ]
  },
  {
   "cell_type": "markdown",
   "metadata": {},
   "source": [
    "## Fact Items"
   ]
  },
  {
   "cell_type": "code",
   "execution_count": 20,
   "metadata": {},
   "outputs": [],
   "source": [
    "#Creating fact table of userid, receipt_id, barcode, brandcode\n",
    "receipt_user = receipts.merge(users, left_on='userId', right_on='_id')\n",
    "fact = receipt_user.merge(rewards_receipt_items,left_on = '_id_x', right_on = 'receipt_id')\n",
    "fact = fact[['receiptBarcodeRow', 'receipt_id','userId','brandCode']]\n",
    "fact = fact.dropna()"
   ]
  },
  {
   "cell_type": "code",
   "execution_count": 21,
   "metadata": {},
   "outputs": [
    {
     "data": {
      "text/html": [
       "<div>\n",
       "<style scoped>\n",
       "    .dataframe tbody tr th:only-of-type {\n",
       "        vertical-align: middle;\n",
       "    }\n",
       "\n",
       "    .dataframe tbody tr th {\n",
       "        vertical-align: top;\n",
       "    }\n",
       "\n",
       "    .dataframe thead th {\n",
       "        text-align: right;\n",
       "    }\n",
       "</style>\n",
       "<table border=\"1\" class=\"dataframe\">\n",
       "  <thead>\n",
       "    <tr style=\"text-align: right;\">\n",
       "      <th></th>\n",
       "      <th>receiptBarcodeRow</th>\n",
       "      <th>receipt_id</th>\n",
       "      <th>userId</th>\n",
       "      <th>brandCode</th>\n",
       "    </tr>\n",
       "  </thead>\n",
       "  <tbody>\n",
       "    <tr>\n",
       "      <th>12</th>\n",
       "      <td>5ff1e1cd0a720f052300056f4049</td>\n",
       "      <td>5ff1e1cd0a720f052300056f</td>\n",
       "      <td>5ff1e194b6a9d73a3a9f1052</td>\n",
       "      <td>MISSION</td>\n",
       "    </tr>\n",
       "    <tr>\n",
       "      <th>13</th>\n",
       "      <td>5ff1e1a40a720f052300056904600083251710</td>\n",
       "      <td>5ff1e1a40a720f0523000569</td>\n",
       "      <td>5ff1e194b6a9d73a3a9f1052</td>\n",
       "      <td>BRAND</td>\n",
       "    </tr>\n",
       "    <tr>\n",
       "      <th>196</th>\n",
       "      <td>5ff29be20a7214ada1000571044000000745151</td>\n",
       "      <td>5ff29be20a7214ada1000571</td>\n",
       "      <td>5964eb07e4b03efd0c0f267b</td>\n",
       "      <td>KRAFT EASY CHEESE</td>\n",
       "    </tr>\n",
       "    <tr>\n",
       "      <th>317</th>\n",
       "      <td>5ff618e30a7214ada10005fa012000809941309</td>\n",
       "      <td>5ff618e30a7214ada10005fa</td>\n",
       "      <td>5ff616a68f142f11dd189163</td>\n",
       "      <td>PEPSI</td>\n",
       "    </tr>\n",
       "    <tr>\n",
       "      <th>319</th>\n",
       "      <td>5ff618e30a7214ada10005fa028400642033311</td>\n",
       "      <td>5ff618e30a7214ada10005fa</td>\n",
       "      <td>5ff616a68f142f11dd189163</td>\n",
       "      <td>DORITOS</td>\n",
       "    </tr>\n",
       "  </tbody>\n",
       "</table>\n",
       "</div>"
      ],
      "text/plain": [
       "                           receiptBarcodeRow                receipt_id  \\\n",
       "12              5ff1e1cd0a720f052300056f4049  5ff1e1cd0a720f052300056f   \n",
       "13    5ff1e1a40a720f052300056904600083251710  5ff1e1a40a720f0523000569   \n",
       "196  5ff29be20a7214ada1000571044000000745151  5ff29be20a7214ada1000571   \n",
       "317  5ff618e30a7214ada10005fa012000809941309  5ff618e30a7214ada10005fa   \n",
       "319  5ff618e30a7214ada10005fa028400642033311  5ff618e30a7214ada10005fa   \n",
       "\n",
       "                       userId          brandCode  \n",
       "12   5ff1e194b6a9d73a3a9f1052            MISSION  \n",
       "13   5ff1e194b6a9d73a3a9f1052              BRAND  \n",
       "196  5964eb07e4b03efd0c0f267b  KRAFT EASY CHEESE  \n",
       "317  5ff616a68f142f11dd189163              PEPSI  \n",
       "319  5ff616a68f142f11dd189163            DORITOS  "
      ]
     },
     "execution_count": 21,
     "metadata": {},
     "output_type": "execute_result"
    }
   ],
   "source": [
    "fact.head()"
   ]
  },
  {
   "cell_type": "markdown",
   "metadata": {},
   "source": [
    "#### Renaming and arranging Columns"
   ]
  },
  {
   "cell_type": "code",
   "execution_count": 22,
   "metadata": {},
   "outputs": [],
   "source": [
    "#Brands\n",
    "brands = brands.rename(columns={\"_id\": \"brand_id\"})\n",
    "brands_column_to_move = brands.pop(\"brandCode\")\n",
    "brands.insert(0, \"brandCode\", brands_column_to_move)\n",
    "\n",
    "#Users\n",
    "users = users.rename(columns={\"_id\": \"user_id\"})\n",
    "\n",
    "#fact\n",
    "fact = fact.rename(columns={\"userId\": \"user_id\"})\n",
    "\n",
    "#Receipts\n",
    "receipts = receipts.rename(columns={\"_id\": \"receipt_id\"})\n",
    "\n",
    "#rewards_receipt_items\n",
    "column_to_move = rewards_receipt_items.pop(\"receiptBarcodeRow\")\n",
    "column_to_move1 = rewards_receipt_items.pop(\"receipt_id\")\n",
    "\n",
    "rewards_receipt_items.insert(0, \"receiptBarcodeRow\", column_to_move)\n",
    "rewards_receipt_items.insert(1, \"receipt_id\", column_to_move1)"
   ]
  },
  {
   "cell_type": "markdown",
   "metadata": {},
   "source": [
    "## Creating databases"
   ]
  },
  {
   "cell_type": "markdown",
   "metadata": {},
   "source": [
    "Using get_schema to generate DDL query"
   ]
  },
  {
   "cell_type": "code",
   "execution_count": 23,
   "metadata": {},
   "outputs": [
    {
     "name": "stdout",
     "output_type": "stream",
     "text": [
      "CREATE TABLE \"data\" (\n",
      "\"receiptBarcodeRow\" TEXT,\n",
      "  \"receipt_id\" TEXT,\n",
      "  \"user_id\" TEXT,\n",
      "  \"brandCode\" TEXT\n",
      ")\n"
     ]
    }
   ],
   "source": [
    "fact_ddl = pd.io.sql.get_schema(fact, 'data')\n",
    "print(fact_ddl)"
   ]
  },
  {
   "cell_type": "markdown",
   "metadata": {},
   "source": [
    "## Database and Table creation"
   ]
  },
  {
   "cell_type": "code",
   "execution_count": 24,
   "metadata": {},
   "outputs": [],
   "source": [
    "conn = sqlite3.connect('fetch.db') \n",
    "c = conn.cursor()\n",
    "\n",
    "#Creating Users Table\n",
    "c.execute('''\n",
    "          CREATE TABLE IF NOT EXISTS users\n",
    "          (user_id TEXT PRIMARY KEY,\n",
    "            active BOOLEAN,\n",
    "            createdDate TEXT,\n",
    "            lastLogin TEXT,\n",
    "            role TEXT,\n",
    "            signUpSource TEXT,\n",
    "            state TEXT)\n",
    "          ''')\n",
    "\n",
    "#creating Brands Table    \n",
    "c.execute('''\n",
    "          CREATE TABLE IF NOT EXISTS brands \n",
    "          (\"brandCode\" TEXT PRIMARY KEY,\n",
    "            \"brand_id\" TEXT,\n",
    "            \"barcode\" INTEGER,\n",
    "            \"category\" TEXT,\n",
    "            \"categoryCode\" TEXT,\n",
    "            \"name\" TEXT,\n",
    "            \"topBrand\" BOOLEAN,\n",
    "            \"cpgRef\" TEXT,\n",
    "            \"cpgOid\" TEXT)\n",
    "          ''')\n",
    "\n",
    "#creating Receipts Table    \n",
    "c.execute('''\n",
    "          CREATE TABLE IF NOT EXISTS receipts\n",
    "          (\"receipt_id\" TEXT PRIMARY KEY,\n",
    "            \"bonusPointsEarned\" REAL,\n",
    "            \"bonusPointsEarnedReason\" TEXT,\n",
    "            \"createDate\" INTEGER,\n",
    "            \"dateScanned\" INTEGER,\n",
    "            \"finishedDate\" INTEGER,\n",
    "            \"modifyDate\" INTEGER,\n",
    "            \"pointsAwardedDate\" INTEGER,\n",
    "            \"pointsEarned\" REAL,\n",
    "            \"purchaseDate\" INTEGER,\n",
    "            \"purchasedItemCount\" INTEGER,\n",
    "            \"rewardsReceiptStatus\" TEXT,\n",
    "            \"totalSpent\" REAL,\n",
    "            \"userId\" TEXT)\n",
    "          ''')\n",
    "\n",
    "#creating Rewards Items Table    \n",
    "c.execute('''\n",
    "          CREATE TABLE IF NOT EXISTS rewardsItemsList \n",
    "          (\"receiptBarcodeRow\" INTEGER PRIMARY KEY,\n",
    "            \"receipt_id\" TEXT,\n",
    "            \"barcode\" INTEGER,\n",
    "            \"description\" TEXT,\n",
    "            \"finalPrice\" TEXT,\n",
    "            \"itemPrice\" TEXT,\n",
    "            \"needsFetchReview\" BOOLEAN,\n",
    "            \"partnerItemId\" TEXT,\n",
    "            \"preventTargetGapPoints\" INTEGER,\n",
    "            \"quantityPurchased\" REAL,\n",
    "            \"userFlaggedBarcode\" INTEGER,\n",
    "            \"userFlaggedNewItem\" INTEGER,\n",
    "            \"userFlaggedPrice\" REAL,\n",
    "            \"userFlaggedQuantity\" INTEGER,\n",
    "            \"needsFetchReviewReason\" TEXT,\n",
    "            \"pointsNotAwardedReason\" TEXT,\n",
    "            \"pointsPayerId\" TEXT,\n",
    "            \"rewardsGroup\" TEXT,\n",
    "            \"rewardsProductPartnerId\" TEXT,\n",
    "            \"userFlaggedDescription\" TEXT,\n",
    "            \"originalMetaBriteBarcode\" TEXT,\n",
    "            \"originalMetaBriteDescription\" TEXT,\n",
    "            \"brandCode\" TEXT,\n",
    "            \"competitorRewardsGroup\" TEXT,\n",
    "            \"discountedItemPrice\" TEXT,\n",
    "            \"originalReceiptItemText\" TEXT,\n",
    "            \"itemNumber\" TEXT,\n",
    "            \"originalMetaBriteQuantityPurchased\" REAL,\n",
    "            \"pointsEarned\" TEXT,\n",
    "            \"targetPrice\" TEXT,\n",
    "            \"competitiveProduct\" INTEGER,\n",
    "            \"originalFinalPrice\" TEXT,\n",
    "            \"originalMetaBriteItemPrice\" TEXT,\n",
    "            \"deleted\" INTEGER,\n",
    "            \"priceAfterCoupon\" TEXT,\n",
    "            \"metabriteCampaignId\" TEXT)\n",
    "          ''')\n",
    "\n",
    "#Creating Fact Table\n",
    "c.execute('''\n",
    "          CREATE TABLE IF NOT EXISTS fact\n",
    "          (\"receiptBarcodeRow\" INTEGER PRIMARY KEY,\n",
    "            \"receipt_id\" TEXT,\n",
    "            \"user_id\" TEXT,\n",
    "            \"brandCode\" TEXT)\n",
    "          ''')\n",
    "                     \n",
    "conn.commit()\n",
    "conn.close()"
   ]
  },
  {
   "cell_type": "markdown",
   "metadata": {},
   "source": [
    "### Pushing pandas dataframe into tables"
   ]
  },
  {
   "cell_type": "code",
   "execution_count": 25,
   "metadata": {},
   "outputs": [],
   "source": [
    "conn = sqlite3.connect(\"fetch.db\")\n",
    "\n",
    "##push the dataframe to sql \n",
    "users.to_sql(\"users\", conn, if_exists=\"replace\",index = False)\n",
    "brands.to_sql(\"brands\", conn, if_exists=\"replace\",index = False)\n",
    "receipts.to_sql(\"receipts\", conn, if_exists=\"replace\",index = False)\n",
    "rewards_receipt_items.to_sql(\"rewardsItemsList\", conn, if_exists=\"replace\",index = False)\n",
    "fact.to_sql(\"fact\", conn, if_exists=\"replace\",index = False)\n",
    "\n",
    "conn.commit()\n",
    "conn.close()\n"
   ]
  },
  {
   "cell_type": "markdown",
   "metadata": {},
   "source": [
    "## SQL Queries for business stakeholder quesstions"
   ]
  },
  {
   "cell_type": "markdown",
   "metadata": {},
   "source": [
    "### Quesiton 1 : What are the top 5 brands by receipts scanned for most recent month?"
   ]
  },
  {
   "cell_type": "code",
   "execution_count": 26,
   "metadata": {},
   "outputs": [],
   "source": [
    "conn = sqlite3.connect(\"fetch.db\")\n",
    "c = conn.cursor()\n",
    "\n",
    "c.execute('''\n",
    "    with receipt_month as (\n",
    "          select receipt_id, strftime('%m',(Date(ROUND(receipts.dateScanned / 1000), 'unixepoch'))) as month\n",
    "          from receipts\n",
    "    )\n",
    "    select brandCode,count(brandCode) as total_receipts_scanned\n",
    "    from fact\n",
    "    join receipt_month\n",
    "    on fact.receipt_id = receipt_month.receipt_id\n",
    "    where receipt_month.month = '03'\n",
    "    group by brandCode\n",
    "    order by count(brandCode)\n",
    "''')\n",
    "for row in c.fetchall():\n",
    "    print(row)\n",
    "\n",
    "conn.commit()\n",
    "conn.close()\n"
   ]
  },
  {
   "cell_type": "markdown",
   "metadata": {},
   "source": [
    "For the most recent month of receipts table the brandCode is null. A data quality issue"
   ]
  },
  {
   "cell_type": "markdown",
   "metadata": {},
   "source": [
    "### Question 2: How does the ranking of the top 5 brands by receipts scanned for the recent month compare to the ranking for the previous month?"
   ]
  },
  {
   "cell_type": "code",
   "execution_count": 27,
   "metadata": {},
   "outputs": [],
   "source": [
    "conn = sqlite3.connect(\"fetch.db\")\n",
    "c = conn.cursor()\n",
    "\n",
    "c.execute('''\n",
    "    with receipt_month as (\n",
    "          select receipt_id, strftime('%m',(Date(ROUND(receipts.dateScanned / 1000), 'unixepoch'))) as month\n",
    "          from receipts\n",
    "    ), \n",
    "    month_3 as (\n",
    "        select brandCode, rank() over (order by count(brandCode) desc) as brand_ranking\n",
    "        from fact\n",
    "        join receipt_month\n",
    "        on fact.receipt_id = receipt_month.receipt_id\n",
    "        where receipt_month.month = '03'\n",
    "        group by brandCode\n",
    "        ),\n",
    "    month_2 as (\n",
    "        select brandCode, rank() over (order by count(brandCode) desc) as brand_ranking\n",
    "        from fact\n",
    "        join receipt_month\n",
    "        on fact.receipt_id = receipt_month.receipt_id\n",
    "        where receipt_month.month = '02'\n",
    "        group by brandCode\n",
    "        )\n",
    "    select month_2.brandCode, month_2.brand_ranking, month_3.brand_ranking, (month_2.brand_ranking - month_3.brand_ranking) as rank_change\n",
    "    from month_3\n",
    "    join month_2\n",
    "    on month_3.brandCode = month_2.brandCode;\n",
    "    \n",
    "''')\n",
    "for row in c.fetchall():\n",
    "    print(row)\n",
    "\n",
    "conn.commit()\n",
    "conn.close()\n"
   ]
  },
  {
   "cell_type": "markdown",
   "metadata": {},
   "source": [
    "### Question 3 : When considering average spend from receipts with 'rewardsReceiptStatus’ of ‘Accepted’ or ‘Rejected’, which is greater?"
   ]
  },
  {
   "cell_type": "markdown",
   "metadata": {},
   "source": [
    "Assumption - 'rewardsReceiptStatus' doesn't have 'Accepted' flag, so considering 'Finished' flag as 'Accepted'"
   ]
  },
  {
   "cell_type": "code",
   "execution_count": 28,
   "metadata": {},
   "outputs": [
    {
     "name": "stdout",
     "output_type": "stream",
     "text": [
      "('FINISHED', 80.85430501930502)\n",
      "('REJECTED', 23.326056338028184)\n"
     ]
    }
   ],
   "source": [
    "conn = sqlite3.connect(\"fetch.db\")\n",
    "c = conn.cursor()\n",
    "\n",
    "c.execute('''\n",
    "    select rewardsReceiptStatus, avg(totalSpent)\n",
    "    from receipts\n",
    "    where rewardsReceiptStatus = 'FINISHED' or rewardsReceiptStatus = 'REJECTED'\n",
    "    group by rewardsReceiptStatus\n",
    "''')\n",
    "for row in c.fetchall():\n",
    "    print(row)\n",
    "\n",
    "conn.commit()\n",
    "conn.close()\n"
   ]
  },
  {
   "cell_type": "markdown",
   "metadata": {},
   "source": [
    "The average spend from receipts with 'rewardsReceiptStatus’ of 'Accepted’ is greater."
   ]
  },
  {
   "cell_type": "markdown",
   "metadata": {},
   "source": [
    "### Question 4 - When considering total number of items purchased from receipts with 'rewardsReceiptStatus’ of ‘Accepted’ or ‘Rejected’, which is greater?"
   ]
  },
  {
   "cell_type": "markdown",
   "metadata": {},
   "source": [
    "Assumption - 'rewardsReceiptStatus' doesn't have 'Accepted' flag, so considering 'Finished' flag as 'Accepted'"
   ]
  },
  {
   "cell_type": "code",
   "execution_count": 29,
   "metadata": {},
   "outputs": [
    {
     "name": "stdout",
     "output_type": "stream",
     "text": [
      "('FINISHED', 8184.0)\n",
      "('REJECTED', 173.0)\n"
     ]
    }
   ],
   "source": [
    "conn = sqlite3.connect(\"fetch.db\")\n",
    "c = conn.cursor()\n",
    "\n",
    "c.execute('''\n",
    "    select rewardsReceiptStatus, sum(purchasedItemCount)\n",
    "    from receipts\n",
    "    where rewardsReceiptStatus = 'FINISHED' or rewardsReceiptStatus = 'REJECTED'\n",
    "    group by rewardsReceiptStatus\n",
    "''')\n",
    "for row in c.fetchall():\n",
    "    print(row)\n",
    "\n",
    "conn.commit()\n",
    "conn.close()\n"
   ]
  },
  {
   "cell_type": "markdown",
   "metadata": {},
   "source": [
    "The total number of items purchased with 'rewardsReceiptStatus’ of 'Accepted’ is greater."
   ]
  },
  {
   "cell_type": "markdown",
   "metadata": {},
   "source": [
    "### Quesiton 5 - Which brand has the most spend among users who were created within the past 6 months?"
   ]
  },
  {
   "cell_type": "code",
   "execution_count": 30,
   "metadata": {},
   "outputs": [
    {
     "name": "stdout",
     "output_type": "stream",
     "text": [
      "('BEN AND JERRYS', 197337.68)\n"
     ]
    }
   ],
   "source": [
    "conn = sqlite3.connect(\"fetch.db\")\n",
    "c = conn.cursor()\n",
    "\n",
    "c.execute('''\n",
    "    with latest_user_creation_date as (\n",
    "        select max(Date(ROUND(createdDate / 1000), 'unixepoch')) as latest_date\n",
    "        from users\n",
    "    ),\n",
    "    user_created_past_6_months as (\n",
    "          select user_id\n",
    "          from users\n",
    "          where Date(ROUND(createdDate / 1000), 'unixepoch') > DATE((select latest_date from latest_user_creation_date),'-6 month')\n",
    "    )\n",
    "    select fact.brandCode, round(sum(receipts.totalSpent),2) as totalSpend\n",
    "    from user_created_past_6_months\n",
    "    join fact\n",
    "    on fact.user_id = user_created_past_6_months.user_id\n",
    "    join receipts\n",
    "    on fact.receipt_id = receipts.receipt_id\n",
    "    group by fact.brandCode\n",
    "    order by totalSpend desc limit 1\n",
    "''')\n",
    "for row in c.fetchall():\n",
    "    print(row)\n",
    "\n",
    "conn.commit()\n",
    "conn.close()\n"
   ]
  },
  {
   "cell_type": "markdown",
   "metadata": {},
   "source": [
    "\"Ben And Jerrys\" brands has the most spend among users who were created within past 6 months"
   ]
  },
  {
   "cell_type": "markdown",
   "metadata": {},
   "source": [
    "Question 6 : Which brand has the most transactions among users who were created within the past 6 months?"
   ]
  },
  {
   "cell_type": "code",
   "execution_count": 31,
   "metadata": {},
   "outputs": [
    {
     "name": "stdout",
     "output_type": "stream",
     "text": [
      "('HY-VEE', 291)\n"
     ]
    }
   ],
   "source": [
    "conn = sqlite3.connect(\"fetch.db\")\n",
    "c = conn.cursor()\n",
    "\n",
    "c.execute('''\n",
    "    select brandCode, count(receipt_id) as transactions\n",
    "    from fact\n",
    "    group by brandCode\n",
    "    order by transactions desc limit 1\n",
    "''')\n",
    "for row in c.fetchall():\n",
    "    print(row)\n",
    "\n",
    "conn.commit()\n",
    "conn.close()\n"
   ]
  },
  {
   "cell_type": "markdown",
   "metadata": {},
   "source": [
    "\"HY-VEE\" brand has the most trannsactions among users who were created within past 6 months"
   ]
  },
  {
   "cell_type": "markdown",
   "metadata": {},
   "source": [
    "## Data Qaulity"
   ]
  },
  {
   "cell_type": "code",
   "execution_count": 32,
   "metadata": {},
   "outputs": [],
   "source": [
    "def grouped_bar_chart_missing_unique(df):\n",
    "\n",
    "  # Calculate missing and unique value percentages\n",
    "  missing_percentages = (df.isna().sum() / df.shape[0]) * 100\n",
    "  unique_percentages = (df.nunique() / df.shape[0]) * 100\n",
    "\n",
    "  # Create the grouped bar chart\n",
    "  n_cols = len(df.columns)\n",
    "  x = list(range(n_cols))\n",
    "  width = 0.4\n",
    "\n",
    "  fig, ax = plt.subplots(figsize=(18, 10))\n",
    "\n",
    "  rects1 = ax.bar([pos - width/2 for pos in x], missing_percentages, width, label='Missing', color='red')\n",
    "  rects2 = ax.bar([pos + width/2 for pos in x], unique_percentages, width, label='Unique', color='blue')\n",
    "  for rect in rects1:\n",
    "    height = rect.get_height()\n",
    "    ax.annotate(f'{height:.2f}%', xy=(rect.get_x() + rect.get_width() / 2, height),\n",
    "                xytext=(0, 3), textcoords=\"offset points\", ha='center', va='bottom', color='black')\n",
    "\n",
    "  for rect in rects2:\n",
    "    height = rect.get_height()\n",
    "    ax.annotate(f'{height:.2f}%', xy=(rect.get_x() + rect.get_width() / 2, height),\n",
    "                xytext=(0, 3), textcoords=\"offset points\", ha='center', va='bottom', color='black')\n",
    "\n",
    "  # Add labels, title, and legend\n",
    "  ax.set_xticks(x)\n",
    "  ax.set_xticklabels(df.columns, rotation=45)\n",
    "  ax.set_ylabel('Percentage (%)')\n",
    "  ax.set_title('Missing and Unique Values in Each Column')\n",
    "  ax.legend()\n",
    "\n",
    "  # Customize layout\n",
    "  plt.tight_layout()\n",
    "  plt.show()\n",
    "\n",
    "def duplicate_percentage(df,text):\n",
    "  x = round(((len(df)-len(df.drop_duplicates())) / len(df)) * 100,2)\n",
    "  print (f'{text} table has {x}% duplicate rows')\n",
    "\n",
    "def check_values_exist(df1,df2, df1column, df2column):\n",
    "    \"\"\"\n",
    "    Check if all values of column1 exist in column2 of a DataFrame.\n",
    "\n",
    "    Args:\n",
    "    df (pd.DataFrame): The DataFrame to analyze.\n",
    "    column1 (str): The name of the first column.\n",
    "    column2 (str): The name of the second column.\n",
    "\n",
    "    Returns:\n",
    "    tuple: A tuple containing a boolean indicating whether all values of column1 exist in column2,\n",
    "           and the percentage of values from column1 present in column2.\n",
    "    \"\"\"\n",
    "    # Get unique values of both columns\n",
    "    values_column1 = df1[df1column].unique()\n",
    "    values_column2 = df2[df2column].unique()\n",
    "\n",
    "    # Count the number of values from column1 present in column2\n",
    "    count_values_present = sum(1 for value in values_column1 if value in values_column2)\n",
    "\n",
    "    # Calculate the percentage of values from column1 present in column2\n",
    "    percentage_values_present = round((count_values_present / len(values_column1)) * 100,2)\n",
    "\n",
    "    # Check if all values of column1 exist in column2\n",
    "    all_values_exist = count_values_present == len(values_column1)\n",
    "\n",
    "    if all_values_exist:\n",
    "      print('All values present')\n",
    "    else:\n",
    "      print(f'{100 - percentage_values_present}% values missing')\n",
    "\n",
    "    return all_values_exist, percentage_values_present\n"
   ]
  },
  {
   "cell_type": "markdown",
   "metadata": {},
   "source": [
    "Users"
   ]
  },
  {
   "cell_type": "code",
   "execution_count": 33,
   "metadata": {},
   "outputs": [
    {
     "name": "stdout",
     "output_type": "stream",
     "text": [
      "users Data was in nested compression\n",
      "users Data extracted successfully\n",
      "\n",
      "\n",
      "users table has 57.17% duplicate rows\n"
     ]
    },
    {
     "data": {
      "image/png": "[encoded data removed]",
      "text/plain": [
       "<Figure size 1296x720 with 1 Axes>"
      ]
     },
     "metadata": {
      "needs_background": "light"
     },
     "output_type": "display_data"
    }
   ],
   "source": [
    "users = reading_data('users.json.gz')\n",
    "users = users.applymap(lambda x :transform_element(x,'$date'))\n",
    "users = users.applymap(lambda x :transform_element(x,'$oid'))\n",
    "duplicate_percentage(users,'users')\n",
    "grouped_bar_chart_missing_unique(users)"
   ]
  },
  {
   "cell_type": "markdown",
   "metadata": {},
   "source": [
    "Receipts"
   ]
  },
  {
   "cell_type": "code",
   "execution_count": 34,
   "metadata": {},
   "outputs": [
    {
     "name": "stdout",
     "output_type": "stream",
     "text": [
      "receipts table has 0.0% duplicate rows\n"
     ]
    },
    {
     "data": {
      "image/png": "[encoded data removed]",
      "text/plain": [
       "<Figure size 1296x720 with 1 Axes>"
      ]
     },
     "metadata": {
      "needs_background": "light"
     },
     "output_type": "display_data"
    }
   ],
   "source": [
    "duplicate_percentage(receipts,'receipts')\n",
    "grouped_bar_chart_missing_unique(receipts)"
   ]
  },
  {
   "cell_type": "markdown",
   "metadata": {},
   "source": [
    "Brands"
   ]
  },
  {
   "cell_type": "code",
   "execution_count": 35,
   "metadata": {},
   "outputs": [
    {
     "name": "stdout",
     "output_type": "stream",
     "text": [
      "brands table has 0.0% duplicate rows\n"
     ]
    },
    {
     "data": {
      "image/png": "[encoded data removed]",
      "text/plain": [
       "<Figure size 1296x720 with 1 Axes>"
      ]
     },
     "metadata": {
      "needs_background": "light"
     },
     "output_type": "display_data"
    }
   ],
   "source": [
    "duplicate_percentage(brands,'brands')\n",
    "grouped_bar_chart_missing_unique(brands)"
   ]
  },
  {
   "cell_type": "markdown",
   "metadata": {},
   "source": [
    "rewardsReceiptItems"
   ]
  },
  {
   "cell_type": "code",
   "execution_count": 36,
   "metadata": {},
   "outputs": [
    {
     "name": "stdout",
     "output_type": "stream",
     "text": [
      "rewards_receipt_items table has 0.0% duplicate rows\n"
     ]
    },
    {
     "data": {
      "image/png": "[encoded data removed]",
      "text/plain": [
       "<Figure size 1296x720 with 1 Axes>"
      ]
     },
     "metadata": {
      "needs_background": "light"
     },
     "output_type": "display_data"
    }
   ],
   "source": [
    "duplicate_percentage(rewards_receipt_items,'rewards_receipt_items')\n",
    "grouped_bar_chart_missing_unique(rewards_receipt_items)"
   ]
  },
  {
   "cell_type": "markdown",
   "metadata": {},
   "source": [
    "Checking if foreign key violation / non existent references"
   ]
  },
  {
   "cell_type": "code",
   "execution_count": 37,
   "metadata": {},
   "outputs": [
    {
     "name": "stdout",
     "output_type": "stream",
     "text": [
      "45.35% values missing\n",
      "82.02% values missing\n",
      "100.0% values missing\n"
     ]
    },
    {
     "name": "stderr",
     "output_type": "stream",
     "text": [
      "/tmp/ipykernel_804192/3862894477.py:59: FutureWarning: elementwise comparison failed; returning scalar instead, but in the future will perform elementwise comparison\n",
      "  count_values_present = sum(1 for value in values_column1 if value in values_column2)\n"
     ]
    }
   ],
   "source": [
    "all_values_exist, percentage_values_present = check_values_exist(receipts,users,df1column = 'userId', df2column = '_id')\n",
    "all_values_exist, percentage_values_present = check_values_exist(rewards_receipt_items,brands,df1column = 'brandCode', df2column = 'brandCode')\n",
    "all_values_exist, percentage_values_present = check_values_exist(rewards_receipt_items,brands,df1column = 'barcode', df2column = 'barcode')"
   ]
  },
  {
   "cell_type": "markdown",
   "metadata": {},
   "source": [
    "# Data Quality Insights"
   ]
  },
  {
   "cell_type": "markdown",
   "metadata": {},
   "source": [
    "1.   **Nested Compression**:\\\n",
    "Users json file was in nested compression. For time being, it's handled using code but further inconsistent different nested compression will be an issue.\n",
    "\n",
    "2.   **Missing Values**:\\\n",
    "Users Table - 9.7% signUpSource, 11.3% state and 12.5 % lastLogin values are missing.\\\n",
    "Receipts Table - Missing values for multiple columns ranging from 39% to 52%.\\\n",
    "Brands Table - Missing values for columns range from 13% to 55%. Especially brandCode and categoryCode are important but have large missing values.\\\n",
    "rewardsReceipItmes - This table has the most missing values where almost all columns have missing values ranging from 22% to 98%. (majorly range is around 90%)\n",
    "\n",
    "3. **Duplicates**:\\\n",
    "Users table has 57% duplicate rows which is a big issue.\n",
    "\n",
    "4. **Foreign Key violations/non existent reference**: \\\n",
    "45% of userId in receipts table are non-existent users from Users Table.\\\n",
    "Meaning that either the Users table database is incomplete/inconsistent or receipts data source is taking garbage values.\\\n",
    "Same is the case for -\\\n",
    "**rewardsReceiptItems brandCode** - 82% of values don't exist in Brands brandCode\\\n",
    "**rewardsReceiptItems barcode** -100% of values don't exist in Brands barcode"
   ]
  },
  {
   "cell_type": "markdown",
   "metadata": {},
   "source": [
    "### Data Quality Recommendations"
   ]
  },
  {
   "cell_type": "markdown",
   "metadata": {},
   "source": [
    "1.   **Data QC and validation at source**:\\\n",
    "Apply quality checks and data validation at data source to avoid data quality cascade issues further down the line\n",
    "\n",
    "2.   **Data Quality Awareness for Partners**:\\\n",
    "Provide data awareness and data ingestion suggestions to partners to improve the data ingestion methods and enhance quality.\n",
    "\n",
    "3. **SME Collaboration**:\\\n",
    "Working with SME would help to better understand the data and help learn their expectations to address needs effectively."
   ]
  }
 ],
 "metadata": {
  "kernelspec": {
   "display_name": "Python 3",
   "language": "python",
   "name": "python3"
  },
  "language_info": {
   "codemirror_mode": {
    "name": "ipython",
    "version": 3
   },
   "file_extension": ".py",
   "mimetype": "text/x-python",
   "name": "python",
   "nbconvert_exporter": "python",
   "pygments_lexer": "ipython3",
   "version": "3.8.10"
  }
 },
 "nbformat": 4,
 "nbformat_minor": 2
}
